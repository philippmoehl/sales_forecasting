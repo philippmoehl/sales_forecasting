{
 "cells": [
  {
   "cell_type": "code",
   "execution_count": 1,
   "id": "6c3e4052-b0c3-4fd0-914b-b3420acb862d",
   "metadata": {},
   "outputs": [],
   "source": [
    "import copy\n",
    "import datetime as dt\n",
    "from pathlib import Path\n",
    "import pickle\n",
    "import requests\n",
    "import warnings\n",
    "import sys\n",
    "\n",
    "import holidays\n",
    "import numpy as np\n",
    "import pandas as pd\n",
    "import matplotlib\n",
    "import matplotlib.pyplot as plt\n",
    "import seaborn as sns\n",
    "\n",
    "from sklearn import linear_model\n",
    "from sklearn import metrics\n",
    "from sklearn.linear_model import Ridge\n",
    "from sklearn.model_selection import GroupKFold\n",
    "from sklearn.preprocessing import StandardScaler\n",
    "from sklearn.pipeline import Pipeline\n",
    "\n",
    "pd.options.mode.chained_assignment = None  # default='warn'\n",
    "matplotlib.rcParams.update({'font.size': 15})\n",
    "warnings.simplefilter(\"ignore\")\n",
    "sys.path.insert(0, Path.cwd().parent.as_posix())\n",
    "\n",
    "from src.utils import expand_time, gdp_countries, save_model, load_model\n",
    "from src.holidays import *"
   ]
  },
  {
   "cell_type": "code",
   "execution_count": 2,
   "id": "eb4ca3ff-94f3-40af-92bb-edaf0a9cf022",
   "metadata": {},
   "outputs": [],
   "source": [
    "BASE_PATH = Path.cwd().parent\n",
    "DATA_PATH = BASE_PATH / \"data\"\n",
    "\n",
    "train = pd.read_csv(DATA_PATH / \"train.csv\")\n",
    "test = pd.read_csv(DATA_PATH / \"test.csv\")"
   ]
  },
  {
   "cell_type": "markdown",
   "id": "bac7871f-e3a8-4b9e-9a03-8360d11c4bf9",
   "metadata": {},
   "source": [
    "## Preprocess Data"
   ]
  },
  {
   "cell_type": "code",
   "execution_count": 3,
   "id": "b2406d58-473b-420d-836a-775439d3e99f",
   "metadata": {},
   "outputs": [],
   "source": [
    "df = pd.concat([train, test], axis=0)\n",
    "df['log'] = np.log(df['num_sold'])"
   ]
  },
  {
   "cell_type": "code",
   "execution_count": 4,
   "id": "68d603b2-5352-49a6-baf9-abc3304590c9",
   "metadata": {},
   "outputs": [],
   "source": [
    "# create more features based on the date column\n",
    "df, _ = expand_time(df)"
   ]
  },
  {
   "cell_type": "code",
   "execution_count": 5,
   "id": "9c4f6f5d-5698-4f79-8390-c31ce6f80001",
   "metadata": {},
   "outputs": [],
   "source": [
    "# collect GDP data for countries\n",
    "gdp = gdp_countries(train.country.unique())\n",
    "\n",
    "rel_gdp_df = pd.DataFrame(gdp, index=train.country.unique(), columns=range(2017, 2023))"
   ]
  },
  {
   "cell_type": "code",
   "execution_count": 6,
   "id": "97020849-872c-4aa0-bc75-f40c40b6dd3a",
   "metadata": {},
   "outputs": [],
   "source": [
    "# add GDP data\n",
    "df['rel_gdp'] = df.apply(lambda s: rel_gdp_df.loc[s.country, s.date.year], axis=1)\n",
    "df['log_rel_gdp'] = np.log(df['rel_gdp'])"
   ]
  },
  {
   "cell_type": "code",
   "execution_count": 7,
   "id": "a0111878-c1dc-4cda-bdc5-d35bbd46c6fc",
   "metadata": {},
   "outputs": [],
   "source": [
    "# gather holiday specific information\n",
    "df_holidays = create_holiday(\n",
    "    [2017, 2018, 2019, 2020, 2021, 2022], df.country.unique())"
   ]
  },
  {
   "cell_type": "code",
   "execution_count": 8,
   "id": "996916c7-175e-41ed-9d3d-8e77163390eb",
   "metadata": {},
   "outputs": [],
   "source": [
    "# Calculate holiday_diff\n",
    "holiday_diff = calculate_holiday_diff()\n",
    "\n",
    "# Add holidays based on holiday_diff\n",
    "df[\"holiday\"] = add_holidays(df, df_holidays, holiday_diff)\n",
    "\n",
    "# Add special dates and get special date columns\n",
    "special_date_columns = add_special_dates(df)\n",
    "\n",
    "# Add custom holidays for specific countries\n",
    "holiday_countries = ['Estonia', 'Canada']\n",
    "column = 'holiday_1226'\n",
    "holiday_diff = calculate_holiday_diff()\n",
    "\n",
    "add_custom_holidays(df, holiday_countries, column, holiday_diff)\n",
    "\n",
    "special_date_columns.append(column)\n",
    "\n",
    "holidays_columns = ['holiday']"
   ]
  },
  {
   "cell_type": "code",
   "execution_count": 9,
   "id": "8706299c-9912-4036-b1bb-5dbfce5e5218",
   "metadata": {},
   "outputs": [],
   "source": [
    "# adjust the sin and cos curve formats of the product data\n",
    "\n",
    "# sin wave\n",
    "year_columns = ['year_sin_1', 'year_cos_1', 'year_sin_0.5', 'year_cos_0.5']\n",
    "df['year_sin_1']   = np.sin(np.pi * df['time_no'] / 182.5)\n",
    "df['year_cos_1']   = np.cos(np.pi * df['time_no'] / 182.5)\n",
    "df['year_sin_0.5'] = np.sin(np.pi * df['time_no'] / 365.0)\n",
    "df['year_cos_0.5'] = np.cos(np.pi * df['time_no'] / 365.0)\n",
    "\n",
    "# prodcut feature.\n",
    "#I did crossvalidation and find that we only need simple sin and cos wave\n",
    "product_year_columns = []\n",
    "for product in train['product'].unique():\n",
    "    df[product] = (df['product'] == product).astype(float)\n",
    "    product_sin = f\"{product}_sin\"\n",
    "    product_cos = f\"{product}_cos\"\n",
    "    if product == 'Using LLMs to Train More LLMs' or product == 'Using LLMs to Win Friends and Influence People':\n",
    "        df[product_sin] = df[product] * df['year_sin_0.5']\n",
    "        df[product_cos] = df[product] * df['year_cos_0.5']\n",
    "\n",
    "        product_year_columns.append(product_sin)\n",
    "        product_year_columns.append(product_cos)\n",
    "    elif product == 'Using LLMs to Write Better' or product== 'Using LLMs to Improve Your Coding':\n",
    "        df[product_sin] = df[product] * df['year_sin_1']\n",
    "        product_year_columns.append(product_sin)    \n",
    "    else:\n",
    "        df[product_cos] = df[product] * df['year_cos_1']\n",
    "        product_year_columns.append(product_cos)"
   ]
  },
  {
   "cell_type": "code",
   "execution_count": 10,
   "id": "ecd48bac-3d0f-4975-901b-035ca9666ebe",
   "metadata": {},
   "outputs": [],
   "source": [
    "# make month flag in 2020\n",
    "featured_month_columns = []\n",
    "for month in range(3, 11):\n",
    "    column = 'month_2020_{}'.format(month)\n",
    "    df[column] = ((df['year'] == 2020) & (df['month'] == month)).astype(float)\n",
    "    featured_month_columns.append(column)"
   ]
  },
  {
   "cell_type": "code",
   "execution_count": 11,
   "id": "99a143be-a0a2-43e7-af13-e5e717a3187b",
   "metadata": {},
   "outputs": [],
   "source": [
    "# week flag\n",
    "week_columns = []\n",
    "for week in range(4, 7):\n",
    "    column = 'week_{}'.format(week)\n",
    "    df[column] = (df['week'] == week).astype(float)\n",
    "    week_columns.append(column)\n",
    "store_columns = []\n",
    "\n",
    "for store in train.store.unique()[1:]:\n",
    "    column = 'store_{}'.format(store)\n",
    "    df[column] = ((df['store'] == store)).astype(float)\n",
    "    #df[column] = ((df['store'] == store) & (df['year'] != 2020)).astype(float)\n",
    "    store_columns.append(column)\n",
    "# product\n",
    "product_columns = []\n",
    "for product in train['product'].unique()[1:]:\n",
    "    column = 'product_{}'.format(product)\n",
    "    df[column] = (df['product'] == product).astype(float)\n",
    "    product_columns.append(column)"
   ]
  },
  {
   "cell_type": "markdown",
   "id": "fdc521c5-7287-4340-a9c1-4c45f8c93645",
   "metadata": {},
   "source": [
    "## Modelling"
   ]
  },
  {
   "cell_type": "code",
   "execution_count": 12,
   "id": "ab5d9309-3c4e-4a87-a227-eafdc8a2bf83",
   "metadata": {},
   "outputs": [],
   "source": [
    "# decide use columns\n",
    "use_columns = []\n",
    "use_columns.extend(special_date_columns)\n",
    "use_columns.extend(product_year_columns)\n",
    "use_columns.extend(holidays_columns)\n",
    "use_columns.extend(week_columns)\n",
    "use_columns.extend(store_columns)\n",
    "use_columns.extend(product_columns)\n",
    "use_columns.extend(featured_month_columns)\n",
    "\n",
    "\n",
    "# learning\n",
    "df_used = df.copy()\n",
    "date = dt.datetime(2021, 12, 31)\n",
    "df_used = df_used.loc[df_used['date'] <= date]\n",
    "source = df_used[use_columns]\n",
    "target = df_used['log']-df_used['log_rel_gdp']"
   ]
  },
  {
   "cell_type": "code",
   "execution_count": 13,
   "id": "1cfb35f1-ec84-44a0-918f-5b6f07c8cdaa",
   "metadata": {},
   "outputs": [],
   "source": [
    "# Model\n",
    "model = Pipeline([\n",
    "    ('standardize', StandardScaler()),\n",
    "    ('linear_reg', Ridge(alpha=150, tol=0.00001, max_iter=10000))\n",
    "\n",
    "])"
   ]
  },
  {
   "cell_type": "code",
   "execution_count": 14,
   "id": "85df0209-54bd-421d-afbb-407ae18bfd57",
   "metadata": {},
   "outputs": [
    {
     "data": {
      "text/html": [
       "<style>#sk-container-id-1 {color: black;}#sk-container-id-1 pre{padding: 0;}#sk-container-id-1 div.sk-toggleable {background-color: white;}#sk-container-id-1 label.sk-toggleable__label {cursor: pointer;display: block;width: 100%;margin-bottom: 0;padding: 0.3em;box-sizing: border-box;text-align: center;}#sk-container-id-1 label.sk-toggleable__label-arrow:before {content: \"▸\";float: left;margin-right: 0.25em;color: #696969;}#sk-container-id-1 label.sk-toggleable__label-arrow:hover:before {color: black;}#sk-container-id-1 div.sk-estimator:hover label.sk-toggleable__label-arrow:before {color: black;}#sk-container-id-1 div.sk-toggleable__content {max-height: 0;max-width: 0;overflow: hidden;text-align: left;background-color: #f0f8ff;}#sk-container-id-1 div.sk-toggleable__content pre {margin: 0.2em;color: black;border-radius: 0.25em;background-color: #f0f8ff;}#sk-container-id-1 input.sk-toggleable__control:checked~div.sk-toggleable__content {max-height: 200px;max-width: 100%;overflow: auto;}#sk-container-id-1 input.sk-toggleable__control:checked~label.sk-toggleable__label-arrow:before {content: \"▾\";}#sk-container-id-1 div.sk-estimator input.sk-toggleable__control:checked~label.sk-toggleable__label {background-color: #d4ebff;}#sk-container-id-1 div.sk-label input.sk-toggleable__control:checked~label.sk-toggleable__label {background-color: #d4ebff;}#sk-container-id-1 input.sk-hidden--visually {border: 0;clip: rect(1px 1px 1px 1px);clip: rect(1px, 1px, 1px, 1px);height: 1px;margin: -1px;overflow: hidden;padding: 0;position: absolute;width: 1px;}#sk-container-id-1 div.sk-estimator {font-family: monospace;background-color: #f0f8ff;border: 1px dotted black;border-radius: 0.25em;box-sizing: border-box;margin-bottom: 0.5em;}#sk-container-id-1 div.sk-estimator:hover {background-color: #d4ebff;}#sk-container-id-1 div.sk-parallel-item::after {content: \"\";width: 100%;border-bottom: 1px solid gray;flex-grow: 1;}#sk-container-id-1 div.sk-label:hover label.sk-toggleable__label {background-color: #d4ebff;}#sk-container-id-1 div.sk-serial::before {content: \"\";position: absolute;border-left: 1px solid gray;box-sizing: border-box;top: 0;bottom: 0;left: 50%;z-index: 0;}#sk-container-id-1 div.sk-serial {display: flex;flex-direction: column;align-items: center;background-color: white;padding-right: 0.2em;padding-left: 0.2em;position: relative;}#sk-container-id-1 div.sk-item {position: relative;z-index: 1;}#sk-container-id-1 div.sk-parallel {display: flex;align-items: stretch;justify-content: center;background-color: white;position: relative;}#sk-container-id-1 div.sk-item::before, #sk-container-id-1 div.sk-parallel-item::before {content: \"\";position: absolute;border-left: 1px solid gray;box-sizing: border-box;top: 0;bottom: 0;left: 50%;z-index: -1;}#sk-container-id-1 div.sk-parallel-item {display: flex;flex-direction: column;z-index: 1;position: relative;background-color: white;}#sk-container-id-1 div.sk-parallel-item:first-child::after {align-self: flex-end;width: 50%;}#sk-container-id-1 div.sk-parallel-item:last-child::after {align-self: flex-start;width: 50%;}#sk-container-id-1 div.sk-parallel-item:only-child::after {width: 0;}#sk-container-id-1 div.sk-dashed-wrapped {border: 1px dashed gray;margin: 0 0.4em 0.5em 0.4em;box-sizing: border-box;padding-bottom: 0.4em;background-color: white;}#sk-container-id-1 div.sk-label label {font-family: monospace;font-weight: bold;display: inline-block;line-height: 1.2em;}#sk-container-id-1 div.sk-label-container {text-align: center;}#sk-container-id-1 div.sk-container {/* jupyter's `normalize.less` sets `[hidden] { display: none; }` but bootstrap.min.css set `[hidden] { display: none !important; }` so we also need the `!important` here to be able to override the default hidden behavior on the sphinx rendered scikit-learn.org. See: https://github.com/scikit-learn/scikit-learn/issues/21755 */display: inline-block !important;position: relative;}#sk-container-id-1 div.sk-text-repr-fallback {display: none;}</style><div id=\"sk-container-id-1\" class=\"sk-top-container\"><div class=\"sk-text-repr-fallback\"><pre>Pipeline(steps=[(&#x27;standardize&#x27;, StandardScaler()),\n",
       "                (&#x27;linear_reg&#x27;, Ridge(alpha=150, max_iter=10000, tol=1e-05))])</pre><b>In a Jupyter environment, please rerun this cell to show the HTML representation or trust the notebook. <br />On GitHub, the HTML representation is unable to render, please try loading this page with nbviewer.org.</b></div><div class=\"sk-container\" hidden><div class=\"sk-item sk-dashed-wrapped\"><div class=\"sk-label-container\"><div class=\"sk-label sk-toggleable\"><input class=\"sk-toggleable__control sk-hidden--visually\" id=\"sk-estimator-id-1\" type=\"checkbox\" ><label for=\"sk-estimator-id-1\" class=\"sk-toggleable__label sk-toggleable__label-arrow\">Pipeline</label><div class=\"sk-toggleable__content\"><pre>Pipeline(steps=[(&#x27;standardize&#x27;, StandardScaler()),\n",
       "                (&#x27;linear_reg&#x27;, Ridge(alpha=150, max_iter=10000, tol=1e-05))])</pre></div></div></div><div class=\"sk-serial\"><div class=\"sk-item\"><div class=\"sk-estimator sk-toggleable\"><input class=\"sk-toggleable__control sk-hidden--visually\" id=\"sk-estimator-id-2\" type=\"checkbox\" ><label for=\"sk-estimator-id-2\" class=\"sk-toggleable__label sk-toggleable__label-arrow\">StandardScaler</label><div class=\"sk-toggleable__content\"><pre>StandardScaler()</pre></div></div></div><div class=\"sk-item\"><div class=\"sk-estimator sk-toggleable\"><input class=\"sk-toggleable__control sk-hidden--visually\" id=\"sk-estimator-id-3\" type=\"checkbox\" ><label for=\"sk-estimator-id-3\" class=\"sk-toggleable__label sk-toggleable__label-arrow\">Ridge</label><div class=\"sk-toggleable__content\"><pre>Ridge(alpha=150, max_iter=10000, tol=1e-05)</pre></div></div></div></div></div></div></div>"
      ],
      "text/plain": [
       "Pipeline(steps=[('standardize', StandardScaler()),\n",
       "                ('linear_reg', Ridge(alpha=150, max_iter=10000, tol=1e-05))])"
      ]
     },
     "execution_count": 14,
     "metadata": {},
     "output_type": "execute_result"
    }
   ],
   "source": [
    "# Fit model\n",
    "model.fit(source, target)"
   ]
  },
  {
   "cell_type": "code",
   "execution_count": 15,
   "id": "ea1560ef-6d98-4d43-8c8e-c5e7befeb484",
   "metadata": {},
   "outputs": [],
   "source": [
    "# save model\n",
    "save_model(model, \"model_0.pkl\")"
   ]
  },
  {
   "cell_type": "markdown",
   "id": "62a2c405-8340-4cd8-950e-9455de01e68d",
   "metadata": {},
   "source": [
    "## Testing"
   ]
  },
  {
   "cell_type": "code",
   "execution_count": 16,
   "id": "946f6ae5-40ec-4e2f-a740-a0406be1e889",
   "metadata": {},
   "outputs": [],
   "source": [
    "model = load_model(\"model_0.pkl\")"
   ]
  },
  {
   "cell_type": "code",
   "execution_count": 20,
   "id": "dac76e0f-6620-4826-9cba-0425a5e65f19",
   "metadata": {},
   "outputs": [
    {
     "name": "stdout",
     "output_type": "stream",
     "text": [
      "exp smape  = 0.044295043764811304\n"
     ]
    }
   ],
   "source": [
    "# show results\n",
    "df['predict_log'] = model.predict(df[use_columns])+df['log_rel_gdp']\n",
    "df['predict_exp'] = np.exp(df['predict_log'])\n",
    "\n",
    "\n",
    "df['smape_log'] = 2 * (df['log'] - df['predict_log']).abs() / (df['log'] + df['predict_log'])\n",
    "\n",
    "df['smape_exp'] = 2 * (df['num_sold'] - df['predict_exp']).abs() / (df['num_sold'] + df['predict_exp'])\n",
    "\n",
    "result = df.loc[df['date'] <= date]\n",
    "print('exp smape  = {}'.format(result['smape_exp'].mean()))"
   ]
  },
  {
   "cell_type": "code",
   "execution_count": 36,
   "id": "c29f2428-57dc-4393-83d4-d5d55f93e752",
   "metadata": {},
   "outputs": [],
   "source": [
    "result = df.sort_values('id')\n",
    "result_2 = result.copy()\n",
    "result_2.loc[(result_2['year'] == 2022)&(result_2['country'] == 'Argentina'), 'predict_exp'] *= 3.372\n",
    "result_2.loc[(result_2['year'] == 2022)&(result_2['country'] == 'Spain'), 'predict_exp'] *= 1.6\n",
    "result_2.loc[(result_2['year'] == 2022)&(result_2['country'] == 'Japan'), 'predict_exp'] *= 1.394\n",
    "result_2.loc[(result_2['year'] == 2022)&(result_2['country'] == 'Estonia'), 'predict_exp'] *= 1.651\n",
    "result_2.loc[(result_2['year'] == 2022)&(result_2['country'] == 'Canada'), 'predict_exp'] *= 0.850"
   ]
  },
  {
   "cell_type": "code",
   "execution_count": 39,
   "id": "e95b7041-1306-4cd0-a8ed-a020d1a64703",
   "metadata": {},
   "outputs": [],
   "source": [
    "# prediction\n",
    "result_2 = result_2.loc[result_2['date'] >= dt.datetime(2022, 1, 1), [\"id\", \"date\", \"country\", \"store\", \"product\", 'predict_exp']]\n",
    "result_2['predict_exp'] = np.round(result_2['predict_exp'],0)\n",
    "result_2.rename(columns={'predict_exp':'num_sold'}).to_csv('../data/submission.csv', header=True, index=False)"
   ]
  },
  {
   "cell_type": "code",
   "execution_count": null,
   "id": "75c2817b-4c5c-4bba-9951-dd1917317d40",
   "metadata": {},
   "outputs": [],
   "source": []
  }
 ],
 "metadata": {
  "kernelspec": {
   "display_name": "Python 3 (ipykernel)",
   "language": "python",
   "name": "python3"
  },
  "language_info": {
   "codemirror_mode": {
    "name": "ipython",
    "version": 3
   },
   "file_extension": ".py",
   "mimetype": "text/x-python",
   "name": "python",
   "nbconvert_exporter": "python",
   "pygments_lexer": "ipython3",
   "version": "3.10.13"
  }
 },
 "nbformat": 4,
 "nbformat_minor": 5
}
